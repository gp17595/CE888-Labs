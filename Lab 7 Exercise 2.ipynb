{
  "nbformat": 4,
  "nbformat_minor": 0,
  "metadata": {
    "colab": {
      "name": "Copy of Exercise2_DogvsCat_CNN.ipynb",
      "provenance": [],
      "toc_visible": true
    },
    "kernelspec": {
      "name": "python3",
      "display_name": "Python 3"
    },
    "accelerator": "GPU"
  },
  "cells": [
    {
      "cell_type": "markdown",
      "metadata": {
        "id": "qTh9DiKVslsJ"
      },
      "source": [
        "## Dogs vs. Cats \n",
        "\n",
        "In this competition, you'll write an algorithm to classify whether images contain either a dog or a cat.  This is easy for humans, dogs, and cats. Your computer will find it a bit more difficult.\n",
        "\n",
        "![alt text](https://miro.medium.com/max/3000/1*bhFifratH9DjKqMBTeQG5A.gif)\n",
        "\n",
        "Ref: https://medium.com/@thegrigorian/rolling-in-the-deep-cnn-c8d3f7108c8c"
      ]
    },
    {
      "cell_type": "markdown",
      "metadata": {
        "id": "RSBI-_mSSY1g"
      },
      "source": [
        "Get your API Key from Kaggle using following steps:\n",
        "1. Login to [Kaggle](https://www.kaggle.com/) or Register if you don't have account\n",
        "2. Open Dataset (https://www.kaggle.com/c/dogs-vs-cats/rules) and accept terms and condition. \n",
        "3. On the top right corner click on your Icon and go to accounts and press a button \"Create New API Token\". It will download a JSON file containing your username and key. \n",
        "4. Now, paste both below. \n"
      ]
    },
    {
      "cell_type": "code",
      "metadata": {
        "id": "YmXSOc0tZIGA",
        "colab": {
          "base_uri": "https://localhost:8080/"
        },
        "outputId": "95434f4e-0cd2-4bd6-c267-a802cdb36880"
      },
      "source": [
        "import os\n",
        "os.environ['KAGGLE_USERNAME'] = \"giacobbepeternelj\" # username from the json file\n",
        "os.environ['KAGGLE_KEY'] = \"7aeaaf12440068545fc6b26c6d57c948\" # key from the json file\n",
        "!kaggle competitions download -c dogs-vs-cats # api copied from kaggle (https://www.kaggle.com/c/dogs-vs-cats/data)"
      ],
      "execution_count": null,
      "outputs": [
        {
          "output_type": "stream",
          "text": [
            "Warning: Looks like you're using an outdated API Version, please consider updating (server 1.5.12 / client 1.5.4)\n",
            "Downloading test1.zip to /content\n",
            " 95% 257M/271M [00:02<00:00, 90.6MB/s]\n",
            "100% 271M/271M [00:02<00:00, 133MB/s] \n",
            "Downloading sampleSubmission.csv to /content\n",
            "  0% 0.00/86.8k [00:00<?, ?B/s]\n",
            "100% 86.8k/86.8k [00:00<00:00, 90.1MB/s]\n",
            "Downloading train.zip to /content\n",
            " 97% 527M/543M [00:02<00:00, 212MB/s]\n",
            "100% 543M/543M [00:02<00:00, 200MB/s]\n"
          ],
          "name": "stdout"
        }
      ]
    },
    {
      "cell_type": "code",
      "metadata": {
        "id": "PiwIL8d1n7eS",
        "colab": {
          "base_uri": "https://localhost:8080/"
        },
        "outputId": "fd8e8f33-834e-4bac-b731-01abaa2331d2"
      },
      "source": [
        "# Unzip training data\n",
        "from zipfile import ZipFile\n",
        "file_name = \"/content/train.zip\"\n",
        "with ZipFile(file_name, 'r') as zip:\n",
        "  zip.extractall()\n",
        "  print('done')"
      ],
      "execution_count": null,
      "outputs": [
        {
          "output_type": "stream",
          "text": [
            "done\n"
          ],
          "name": "stdout"
        }
      ]
    },
    {
      "cell_type": "code",
      "metadata": {
        "id": "sa2Bj5i7pPKV",
        "colab": {
          "base_uri": "https://localhost:8080/"
        },
        "outputId": "c5681545-1015-4bbd-ffce-761f31ed9bce"
      },
      "source": [
        "# Get all the paths\n",
        "data_dir_list = os.listdir('/content/train')\n",
        "#print(data_dir_list)\n",
        "path, dirs, files = next(os.walk(\"/content/train\"))\n",
        "file_count = len(files)\n",
        "print(file_count)"
      ],
      "execution_count": null,
      "outputs": [
        {
          "output_type": "stream",
          "text": [
            "25000\n"
          ],
          "name": "stdout"
        }
      ]
    },
    {
      "cell_type": "code",
      "metadata": {
        "id": "0ERlHkfHqpK8"
      },
      "source": [
        "# Make new base directory\n",
        "original_dataset_dir = '/content/train'\n",
        "base_dir = '/content/cats_and_dogs_small'\n",
        "os.mkdir(base_dir)"
      ],
      "execution_count": null,
      "outputs": []
    },
    {
      "cell_type": "code",
      "metadata": {
        "id": "AANB1UJ6rQhM"
      },
      "source": [
        "train_dir = os.path.join(base_dir, 'train')\n",
        "os.mkdir(train_dir)\n",
        "\n",
        "validation_dir = os.path.join(base_dir, 'validation')\n",
        "os.mkdir(validation_dir)\n",
        "\n",
        "test_dir = os.path.join(base_dir, 'test')\n",
        "os.mkdir(test_dir)\n",
        "\n",
        "train_cats_dir = os.path.join(train_dir, 'cats')\n",
        "os.mkdir(train_cats_dir)\n",
        "\n",
        "train_dogs_dir = os.path.join(train_dir, 'dogs')\n",
        "os.mkdir(train_dogs_dir)\n",
        "\n",
        "validation_cats_dir = os.path.join(validation_dir, 'cats')\n",
        "os.mkdir(validation_cats_dir)\n",
        "\n",
        "validation_dogs_dir = os.path.join(validation_dir, 'dogs')\n",
        "os.mkdir(validation_dogs_dir)\n",
        "\n",
        "test_cats_dir = os.path.join(test_dir, 'cats')\n",
        "os.mkdir(test_cats_dir)\n",
        "\n",
        "test_dogs_dir = os.path.join(test_dir, 'dogs')\n",
        "os.mkdir(test_dogs_dir)"
      ],
      "execution_count": null,
      "outputs": []
    },
    {
      "cell_type": "code",
      "metadata": {
        "id": "ULRgL9s9rV8T"
      },
      "source": [
        "import shutil\n",
        "fnames = ['cat.{}.jpg'.format(i) for i in range(1000)]\n",
        "for fname in fnames:\n",
        "    src = os.path.join(original_dataset_dir, fname)\n",
        "    dst = os.path.join(train_cats_dir, fname)\n",
        "    #print(src,dst)\n",
        "    shutil.copyfile(src, dst)\n",
        "    \n",
        "fnames = ['cat.{}.jpg'.format(i) for i in range(1000, 1500)]\n",
        "for fname in fnames:\n",
        "    src = os.path.join(original_dataset_dir, fname)\n",
        "    dst = os.path.join(validation_cats_dir, fname)\n",
        "    shutil.copyfile(src, dst)\n",
        "\n",
        "fnames = ['cat.{}.jpg'.format(i) for i in range(1500, 2000)]\n",
        "for fname in fnames:\n",
        "    src = os.path.join(original_dataset_dir, fname)\n",
        "    dst = os.path.join(test_cats_dir, fname)\n",
        "    shutil.copyfile(src, dst)\n",
        "    \n",
        "fnames = ['dog.{}.jpg'.format(i) for i in range(1000)]\n",
        "for fname in fnames:\n",
        "    src = os.path.join(original_dataset_dir, fname)\n",
        "    dst = os.path.join(train_dogs_dir, fname)\n",
        "    shutil.copyfile(src, dst)\n",
        "\n",
        "fnames = ['dog.{}.jpg'.format(i) for i in range(1000, 1500)]\n",
        "for fname in fnames:\n",
        "    src = os.path.join(original_dataset_dir, fname)\n",
        "    dst = os.path.join(validation_dogs_dir, fname)\n",
        "    shutil.copyfile(src, dst)\n",
        "\n",
        "fnames = ['dog.{}.jpg'.format(i) for i in range(1500, 2000)]\n",
        "for fname in fnames:\n",
        "    src = os.path.join(original_dataset_dir, fname)\n",
        "    dst = os.path.join(test_dogs_dir, fname)\n",
        "    shutil.copyfile(src, dst)"
      ],
      "execution_count": null,
      "outputs": []
    },
    {
      "cell_type": "code",
      "metadata": {
        "id": "ul3XAbIyr7vC",
        "colab": {
          "base_uri": "https://localhost:8080/"
        },
        "outputId": "70ba2e15-f96a-4cb0-e375-68c965694908"
      },
      "source": [
        "print('total training cat images:', len(os.listdir(train_cats_dir)))\n",
        "print('total training dog images:', len(os.listdir(train_dogs_dir)))\n",
        "print('total validation cat images:', len(os.listdir(validation_cats_dir)))\n",
        "\n",
        "print('total validation dog images:', len(os.listdir(validation_dogs_dir)))\n",
        "print('total test cat images:', len(os.listdir(test_cats_dir)))\n",
        "print('total test dog images:', len(os.listdir(test_dogs_dir)))"
      ],
      "execution_count": null,
      "outputs": [
        {
          "output_type": "stream",
          "text": [
            "total training cat images: 1000\n",
            "total training dog images: 1000\n",
            "total validation cat images: 500\n",
            "total validation dog images: 500\n",
            "total test cat images: 500\n",
            "total test dog images: 500\n"
          ],
          "name": "stdout"
        }
      ]
    },
    {
      "cell_type": "code",
      "metadata": {
        "id": "o9yTA21_r-ma",
        "colab": {
          "base_uri": "https://localhost:8080/"
        },
        "outputId": "8638424d-faf8-430f-fdcd-4b0178493eb9"
      },
      "source": [
        "from keras import layers\n",
        "from keras import models\n",
        "\n",
        "model = models.Sequential()\n",
        "model.add(layers.Conv2D(32, (3, 3), activation='relu', input_shape=(150, 150, 3)))\n",
        "model.add(layers.MaxPooling2D((2, 2)))\n",
        "model.add(layers.Conv2D(64, (3, 3), activation='relu'))\n",
        "model.add(layers.MaxPooling2D((2, 2)))\n",
        "model.add(layers.Conv2D(128, (3, 3), activation='relu'))\n",
        "model.add(layers.MaxPooling2D((2, 2)))\n",
        "model.add(layers.Conv2D(128, (3, 3), activation='relu'))\n",
        "model.add(layers.MaxPooling2D((2, 2)))\n",
        "model.add(layers.Flatten())\n",
        "model.add(layers.Dense(512, activation='relu'))\n",
        "model.add(layers.Dense(1, activation='sigmoid'))\n",
        "model.summary()"
      ],
      "execution_count": null,
      "outputs": [
        {
          "output_type": "stream",
          "text": [
            "Model: \"sequential\"\n",
            "_________________________________________________________________\n",
            "Layer (type)                 Output Shape              Param #   \n",
            "=================================================================\n",
            "conv2d (Conv2D)              (None, 148, 148, 32)      896       \n",
            "_________________________________________________________________\n",
            "max_pooling2d (MaxPooling2D) (None, 74, 74, 32)        0         \n",
            "_________________________________________________________________\n",
            "conv2d_1 (Conv2D)            (None, 72, 72, 64)        18496     \n",
            "_________________________________________________________________\n",
            "max_pooling2d_1 (MaxPooling2 (None, 36, 36, 64)        0         \n",
            "_________________________________________________________________\n",
            "conv2d_2 (Conv2D)            (None, 34, 34, 128)       73856     \n",
            "_________________________________________________________________\n",
            "max_pooling2d_2 (MaxPooling2 (None, 17, 17, 128)       0         \n",
            "_________________________________________________________________\n",
            "conv2d_3 (Conv2D)            (None, 15, 15, 128)       147584    \n",
            "_________________________________________________________________\n",
            "max_pooling2d_3 (MaxPooling2 (None, 7, 7, 128)         0         \n",
            "_________________________________________________________________\n",
            "flatten (Flatten)            (None, 6272)              0         \n",
            "_________________________________________________________________\n",
            "dense (Dense)                (None, 512)               3211776   \n",
            "_________________________________________________________________\n",
            "dense_1 (Dense)              (None, 1)                 513       \n",
            "=================================================================\n",
            "Total params: 3,453,121\n",
            "Trainable params: 3,453,121\n",
            "Non-trainable params: 0\n",
            "_________________________________________________________________\n"
          ],
          "name": "stdout"
        }
      ]
    },
    {
      "cell_type": "code",
      "metadata": {
        "id": "2mG8wekxsBVS"
      },
      "source": [
        "from keras import optimizers\n",
        "model.compile(loss='binary_crossentropy', \n",
        "              optimizer=optimizers.RMSprop(lr=1e-4),\n",
        "              metrics=['acc'])"
      ],
      "execution_count": null,
      "outputs": []
    },
    {
      "cell_type": "markdown",
      "metadata": {
        "id": "7zS4Klm8qWp6"
      },
      "source": [
        "## Using ImageDataGenerator to read images from directories\n",
        "As you know by now, data should be formatted into appropriately preprocessed floatingpoint tensors before being fed into the network. Currently, the data sits on a drive as JPEG files, so the steps for getting it into the network are roughly as follows:\n",
        "\n",
        "* Read the picture files.\n",
        "* Decode the JPEG content to RGB grids of pixels.\n",
        "* Convert these into floating-point tensors.\n",
        "* Rescale the pixel values (between 0 and 255) to the [0, 1] interval (as you know, neural networks prefer to deal with small input values).\n",
        "\n",
        "It may seem a bit daunting, but fortunately Keras has utilities to take care of these steps automatically. Keras has a module with image-processing helper tools, located at keras.preprocessing.image. In particular, it contains the class ImageDataGenerator,which lets you quickly set up Python generators that can automatically turn image files on disk into batches of preprocessed tensors."
      ]
    },
    {
      "cell_type": "code",
      "metadata": {
        "id": "XJ7XU7t9sEh6",
        "colab": {
          "base_uri": "https://localhost:8080/"
        },
        "outputId": "765521e2-1096-429d-b43e-678e01931f75"
      },
      "source": [
        "from keras.preprocessing.image import ImageDataGenerator\n",
        "\n",
        "train_datagen = ImageDataGenerator(rescale=1./255)\n",
        "test_datagen = ImageDataGenerator(rescale=1./255)\n",
        "\n",
        "train_generator = train_datagen.flow_from_directory(train_dir,\n",
        "                                                    target_size=(150, 150), \n",
        "                                                    batch_size=20,\n",
        "                                                    class_mode='binary')\n",
        "\n",
        "validation_generator = test_datagen.flow_from_directory(validation_dir,\n",
        "                                                        target_size=(150, 150),\n",
        "                                                        batch_size=20,\n",
        "                                                        class_mode='binary')"
      ],
      "execution_count": null,
      "outputs": [
        {
          "output_type": "stream",
          "text": [
            "Found 2000 images belonging to 2 classes.\n",
            "Found 1000 images belonging to 2 classes.\n"
          ],
          "name": "stdout"
        }
      ]
    },
    {
      "cell_type": "markdown",
      "metadata": {
        "id": "SEgLywySqm4u"
      },
      "source": [
        "Let’s fit the model to the data using the generator. You do so using the fit_generator method, the equivalent of fit for data generators like this one. It expects as its first argument a Python generator that will yield batches of inputs and targets indefinitely,like this one does. Because the data is being generated endlessly, the Keras model needs to know how many samples to draw from the generator before declaring anepoch over. This is the role of the `steps_per_epoch` argument: after having drawn `steps_per_epoch` batches from the generator—that is, after having run for `steps_per_epoch` gradient descent steps—the fitting process will go to the next epoch. In this case, batches are 20 samples, so it will take 100 batches until you see your target of 2,000 samples.\n",
        "\n",
        "When using fit_generator, you can pass a validation_data argument, much as with the fit method. It’s important to note that this argument is allowed to be a data generator, but it could also be a tuple of Numpy arrays. If you pass a generator as validation_data, then this generator is expected to yield batches of validation data endlessly; thus you should also specify the validation_steps argument, which tells the process how many batches to draw from the validation generator for evaluation."
      ]
    },
    {
      "cell_type": "code",
      "metadata": {
        "id": "yMyfPphJsJG6",
        "colab": {
          "base_uri": "https://localhost:8080/"
        },
        "outputId": "b853dbeb-0d6c-4bb7-d673-f6463d4a94d2"
      },
      "source": [
        "history = model.fit_generator(train_generator,\n",
        "                              steps_per_epoch=100,\n",
        "                              epochs=30,\n",
        "                              validation_data=validation_generator,\n",
        "                              validation_steps=10)"
      ],
      "execution_count": null,
      "outputs": [
        {
          "output_type": "stream",
          "text": [
            "/usr/local/lib/python3.7/dist-packages/tensorflow/python/keras/engine/training.py:1844: UserWarning: `Model.fit_generator` is deprecated and will be removed in a future version. Please use `Model.fit`, which supports generators.\n",
            "  warnings.warn('`Model.fit_generator` is deprecated and '\n"
          ],
          "name": "stderr"
        },
        {
          "output_type": "stream",
          "text": [
            "Epoch 1/30\n",
            "100/100 [==============================] - 40s 73ms/step - loss: 0.6934 - acc: 0.5165 - val_loss: 0.6669 - val_acc: 0.5900\n",
            "Epoch 2/30\n",
            "100/100 [==============================] - 7s 67ms/step - loss: 0.6506 - acc: 0.6139 - val_loss: 0.6760 - val_acc: 0.5650\n",
            "Epoch 3/30\n",
            "100/100 [==============================] - 7s 66ms/step - loss: 0.6163 - acc: 0.6696 - val_loss: 0.6685 - val_acc: 0.5850\n",
            "Epoch 4/30\n",
            "100/100 [==============================] - 7s 67ms/step - loss: 0.5604 - acc: 0.7164 - val_loss: 0.5658 - val_acc: 0.7050\n",
            "Epoch 5/30\n",
            "100/100 [==============================] - 7s 68ms/step - loss: 0.5167 - acc: 0.7357 - val_loss: 0.7308 - val_acc: 0.5950\n",
            "Epoch 6/30\n",
            "100/100 [==============================] - 7s 67ms/step - loss: 0.5007 - acc: 0.7724 - val_loss: 0.5541 - val_acc: 0.7050\n",
            "Epoch 7/30\n",
            "100/100 [==============================] - 7s 66ms/step - loss: 0.4575 - acc: 0.7749 - val_loss: 0.5745 - val_acc: 0.7100\n",
            "Epoch 8/30\n",
            "100/100 [==============================] - 7s 69ms/step - loss: 0.4507 - acc: 0.7976 - val_loss: 0.5191 - val_acc: 0.7550\n",
            "Epoch 9/30\n",
            "100/100 [==============================] - 7s 68ms/step - loss: 0.4031 - acc: 0.8206 - val_loss: 0.5725 - val_acc: 0.7150\n",
            "Epoch 10/30\n",
            "100/100 [==============================] - 7s 68ms/step - loss: 0.3752 - acc: 0.8363 - val_loss: 0.5476 - val_acc: 0.7450\n",
            "Epoch 11/30\n",
            "100/100 [==============================] - 7s 68ms/step - loss: 0.3692 - acc: 0.8322 - val_loss: 0.5972 - val_acc: 0.7500\n",
            "Epoch 12/30\n",
            "100/100 [==============================] - 7s 67ms/step - loss: 0.3280 - acc: 0.8482 - val_loss: 0.6043 - val_acc: 0.7000\n",
            "Epoch 13/30\n",
            "100/100 [==============================] - 7s 69ms/step - loss: 0.2971 - acc: 0.8737 - val_loss: 0.6520 - val_acc: 0.7200\n",
            "Epoch 14/30\n",
            "100/100 [==============================] - 7s 69ms/step - loss: 0.2787 - acc: 0.8822 - val_loss: 0.6037 - val_acc: 0.7200\n",
            "Epoch 15/30\n",
            "100/100 [==============================] - 7s 69ms/step - loss: 0.2752 - acc: 0.8879 - val_loss: 0.5993 - val_acc: 0.7300\n",
            "Epoch 16/30\n",
            "100/100 [==============================] - 7s 67ms/step - loss: 0.2417 - acc: 0.9123 - val_loss: 0.6148 - val_acc: 0.7200\n",
            "Epoch 17/30\n",
            "100/100 [==============================] - 7s 68ms/step - loss: 0.2050 - acc: 0.9310 - val_loss: 0.6696 - val_acc: 0.7500\n",
            "Epoch 18/30\n",
            "100/100 [==============================] - 7s 70ms/step - loss: 0.1856 - acc: 0.9247 - val_loss: 0.5456 - val_acc: 0.7600\n",
            "Epoch 19/30\n",
            "100/100 [==============================] - 7s 67ms/step - loss: 0.1600 - acc: 0.9405 - val_loss: 0.6116 - val_acc: 0.7500\n",
            "Epoch 20/30\n",
            "100/100 [==============================] - 7s 67ms/step - loss: 0.1396 - acc: 0.9544 - val_loss: 0.5632 - val_acc: 0.7550\n",
            "Epoch 21/30\n",
            "100/100 [==============================] - 7s 67ms/step - loss: 0.1355 - acc: 0.9501 - val_loss: 0.8553 - val_acc: 0.7350\n",
            "Epoch 22/30\n",
            "100/100 [==============================] - 7s 69ms/step - loss: 0.1104 - acc: 0.9669 - val_loss: 0.8020 - val_acc: 0.7450\n",
            "Epoch 23/30\n",
            "100/100 [==============================] - 7s 67ms/step - loss: 0.0909 - acc: 0.9695 - val_loss: 0.9331 - val_acc: 0.7100\n",
            "Epoch 24/30\n",
            "100/100 [==============================] - 7s 67ms/step - loss: 0.0670 - acc: 0.9856 - val_loss: 1.0431 - val_acc: 0.6900\n",
            "Epoch 25/30\n",
            "100/100 [==============================] - 7s 68ms/step - loss: 0.0520 - acc: 0.9879 - val_loss: 0.7457 - val_acc: 0.7500\n",
            "Epoch 26/30\n",
            "100/100 [==============================] - 7s 68ms/step - loss: 0.0601 - acc: 0.9847 - val_loss: 0.7405 - val_acc: 0.7350\n",
            "Epoch 27/30\n",
            "100/100 [==============================] - 7s 68ms/step - loss: 0.0527 - acc: 0.9849 - val_loss: 0.7775 - val_acc: 0.7550\n",
            "Epoch 28/30\n",
            "100/100 [==============================] - 7s 69ms/step - loss: 0.0371 - acc: 0.9907 - val_loss: 0.9911 - val_acc: 0.7250\n",
            "Epoch 29/30\n",
            "100/100 [==============================] - 7s 69ms/step - loss: 0.0303 - acc: 0.9940 - val_loss: 1.0021 - val_acc: 0.7300\n",
            "Epoch 30/30\n",
            "100/100 [==============================] - 7s 68ms/step - loss: 0.0224 - acc: 0.9970 - val_loss: 0.9573 - val_acc: 0.7300\n"
          ],
          "name": "stdout"
        }
      ]
    },
    {
      "cell_type": "code",
      "metadata": {
        "id": "MZaZ2HWZsNUi",
        "colab": {
          "base_uri": "https://localhost:8080/",
          "height": 545
        },
        "outputId": "99ea2e02-2904-44f1-d4f3-b5ee61286e4a"
      },
      "source": [
        "model.save('cats_and_dogs_small_1.h5')\n",
        "\n",
        "import matplotlib.pyplot as plt\n",
        "\n",
        "acc = history.history['acc']\n",
        "val_acc = history.history['val_acc']\n",
        "loss = history.history['loss']\n",
        "val_loss = history.history['val_loss']\n",
        "\n",
        "epochs = range(1, len(acc) + 1)\n",
        "\n",
        "plt.plot(epochs, acc, 'bo', label='Training acc')\n",
        "plt.plot(epochs, val_acc, 'b', label='Validation acc')\n",
        "plt.title('Training and validation accuracy')\n",
        "plt.legend()\n",
        "\n",
        "plt.figure()\n",
        "\n",
        "plt.plot(epochs, loss, 'bo', label='Training loss')\n",
        "plt.plot(epochs, val_loss, 'b', label='Validation loss')\n",
        "plt.title('Training and validation loss')\n",
        "plt.legend()\n",
        "\n",
        "plt.show()"
      ],
      "execution_count": null,
      "outputs": [
        {
          "output_type": "display_data",
          "data": {
            "image/png": "[encoded data removed]",
            "text/plain": [
              "<Figure size 432x288 with 1 Axes>"
            ]
          },
          "metadata": {
            "tags": [],
            "needs_background": "light"
          }
        },
        {
          "output_type": "display_data",
          "data": {
            "image/png": "[encoded data removed]",
            "text/plain": [
              "<Figure size 432x288 with 1 Axes>"
            ]
          },
          "metadata": {
            "tags": [],
            "needs_background": "light"
          }
        }
      ]
    },
    {
      "cell_type": "markdown",
      "metadata": {
        "id": "XKZmXmBcq_8-"
      },
      "source": [
        "## Convolutional Networks with Dropout\n",
        "\n",
        "![alt text](https://camo.githubusercontent.com/ee6fa1073247cd2c3d241300caf110d7a7541bc5/68747470733a2f2f63646e2d696d616765732d312e6d656469756d2e636f6d2f6d61782f3830302f312a4972644a355067684439596f4f7956415137334d4a772e676966)\n",
        "\n",
        "Ref: https://github.com/mneha4/Training-Neural-Nets---Guidelines"
      ]
    },
    {
      "cell_type": "code",
      "metadata": {
        "id": "wu3cqeYQrDeN"
      },
      "source": [
        "model = models.Sequential()\n",
        "model.add(layers.Conv2D(32, (3, 3), activation='relu',\n",
        "input_shape=(150, 150, 3)))\n",
        "model.add(layers.MaxPooling2D((2, 2)))\n",
        "model.add(layers.Conv2D(64, (3, 3), activation='relu'))\n",
        "model.add(layers.MaxPooling2D((2, 2)))\n",
        "model.add(layers.Conv2D(128, (3, 3), activation='relu'))\n",
        "model.add(layers.MaxPooling2D((2, 2)))\n",
        "model.add(layers.Conv2D(128, (3, 3), activation='relu'))\n",
        "model.add(layers.MaxPooling2D((2, 2)))\n",
        "model.add(layers.Flatten())\n",
        "model.add(layers.Dropout(0.4))\n",
        "model.add(layers.Dense(512, activation='relu'))\n",
        "model.add(layers.Dense(256, activation='relu'))\n",
        "model.add(layers.Dense(128, activation='relu'))\n",
        "model.add(layers.Dense(1, activation='sigmoid'))\n",
        "\n",
        "model.compile(loss='binary_crossentropy',\n",
        "              optimizer=optimizers.RMSprop(lr=1e-4),\n",
        "              metrics=['acc'])"
      ],
      "execution_count": null,
      "outputs": []
    },
    {
      "cell_type": "code",
      "metadata": {
        "id": "QSeLpvY0rH7F",
        "colab": {
          "base_uri": "https://localhost:8080/"
        },
        "outputId": "0e3c81d2-103f-42c3-db5b-73c9ed3401df"
      },
      "source": [
        "\n",
        "train_datagen = ImageDataGenerator(rescale=1./255,\n",
        "                                   rotation_range=40,\n",
        "                                   width_shift_range=0.2,\n",
        "                                   height_shift_range=0.2,\n",
        "                                   shear_range=0.2,\n",
        "                                   zoom_range=0.2,\n",
        "                                   horizontal_flip=True,)\n",
        "\n",
        "test_datagen = ImageDataGenerator(rescale=1./255)\n",
        "\n",
        "train_generator = train_datagen.flow_from_directory(train_dir,\n",
        "                                                    target_size=(150, 150),\n",
        "                                                    batch_size=20,\n",
        "                                                    class_mode='binary')\n",
        "\n",
        "validation_generator = test_datagen.flow_from_directory(validation_dir,\n",
        "                                                        target_size=(150, 150),\n",
        "                                                        batch_size=20,\n",
        "                                                        class_mode='binary')\n",
        "\n",
        "history = model.fit_generator(train_generator,\n",
        "                              steps_per_epoch=100,\n",
        "                              epochs=20,\n",
        "                              validation_data=validation_generator,\n",
        "                              validation_steps=50)"
      ],
      "execution_count": null,
      "outputs": [
        {
          "output_type": "stream",
          "text": [
            "Found 2000 images belonging to 2 classes.\n",
            "Found 1000 images belonging to 2 classes.\n"
          ],
          "name": "stdout"
        },
        {
          "output_type": "stream",
          "text": [
            "/usr/local/lib/python3.7/dist-packages/tensorflow/python/keras/engine/training.py:1844: UserWarning: `Model.fit_generator` is deprecated and will be removed in a future version. Please use `Model.fit`, which supports generators.\n",
            "  warnings.warn('`Model.fit_generator` is deprecated and '\n"
          ],
          "name": "stderr"
        },
        {
          "output_type": "stream",
          "text": [
            "Epoch 1/20\n",
            "100/100 [==============================] - 17s 173ms/step - loss: 0.5366 - acc: 0.7205 - val_loss: 0.5275 - val_acc: 0.7420\n",
            "Epoch 2/20\n",
            "100/100 [==============================] - 17s 174ms/step - loss: 0.5283 - acc: 0.7335 - val_loss: 0.4994 - val_acc: 0.7490\n",
            "Epoch 3/20\n",
            "100/100 [==============================] - 17s 173ms/step - loss: 0.5197 - acc: 0.7375 - val_loss: 0.5044 - val_acc: 0.7540\n",
            "Epoch 4/20\n",
            "100/100 [==============================] - 17s 174ms/step - loss: 0.5288 - acc: 0.7350 - val_loss: 0.5023 - val_acc: 0.7480\n",
            "Epoch 5/20\n",
            "100/100 [==============================] - 17s 175ms/step - loss: 0.5274 - acc: 0.7365 - val_loss: 0.4953 - val_acc: 0.7580\n",
            "Epoch 6/20\n",
            "100/100 [==============================] - 17s 174ms/step - loss: 0.5247 - acc: 0.7420 - val_loss: 0.5286 - val_acc: 0.7350\n",
            "Epoch 7/20\n",
            "100/100 [==============================] - 17s 172ms/step - loss: 0.5133 - acc: 0.7450 - val_loss: 0.5043 - val_acc: 0.7520\n",
            "Epoch 8/20\n",
            "100/100 [==============================] - 17s 174ms/step - loss: 0.5123 - acc: 0.7470 - val_loss: 0.5394 - val_acc: 0.7170\n",
            "Epoch 9/20\n",
            "100/100 [==============================] - 17s 174ms/step - loss: 0.5098 - acc: 0.7440 - val_loss: 0.4939 - val_acc: 0.7490\n",
            "Epoch 10/20\n",
            "100/100 [==============================] - 17s 173ms/step - loss: 0.5038 - acc: 0.7525 - val_loss: 0.4925 - val_acc: 0.7480\n",
            "Epoch 11/20\n",
            "100/100 [==============================] - 17s 173ms/step - loss: 0.5059 - acc: 0.7510 - val_loss: 0.4870 - val_acc: 0.7770\n",
            "Epoch 12/20\n",
            "100/100 [==============================] - 17s 175ms/step - loss: 0.4974 - acc: 0.7565 - val_loss: 0.4845 - val_acc: 0.7670\n",
            "Epoch 13/20\n",
            "100/100 [==============================] - 17s 175ms/step - loss: 0.4860 - acc: 0.7630 - val_loss: 0.4951 - val_acc: 0.7540\n",
            "Epoch 14/20\n",
            "100/100 [==============================] - 17s 173ms/step - loss: 0.4801 - acc: 0.7735 - val_loss: 0.4905 - val_acc: 0.7560\n",
            "Epoch 15/20\n",
            "100/100 [==============================] - 17s 174ms/step - loss: 0.4932 - acc: 0.7640 - val_loss: 0.4887 - val_acc: 0.7710\n",
            "Epoch 16/20\n",
            "100/100 [==============================] - 17s 174ms/step - loss: 0.4913 - acc: 0.7675 - val_loss: 0.4839 - val_acc: 0.7660\n",
            "Epoch 17/20\n",
            "100/100 [==============================] - 18s 176ms/step - loss: 0.4879 - acc: 0.7625 - val_loss: 0.4880 - val_acc: 0.7650\n",
            "Epoch 18/20\n",
            "100/100 [==============================] - 17s 174ms/step - loss: 0.4998 - acc: 0.7605 - val_loss: 0.4751 - val_acc: 0.7720\n",
            "Epoch 19/20\n",
            "100/100 [==============================] - 17s 174ms/step - loss: 0.4731 - acc: 0.7770 - val_loss: 0.4740 - val_acc: 0.7780\n",
            "Epoch 20/20\n",
            "100/100 [==============================] - 18s 175ms/step - loss: 0.4725 - acc: 0.7770 - val_loss: 0.4792 - val_acc: 0.7640\n"
          ],
          "name": "stdout"
        }
      ]
    },
    {
      "cell_type": "markdown",
      "metadata": {
        "id": "BRdU5yrkUF_b"
      },
      "source": [
        "# Task 2:\n",
        "\n",
        "We have used Dropout to enhance the performance of the CNN model. Can you please use whatever you like to further enhance the performance from `val_acc: 0.7506`? "
      ]
    }
  ]
}