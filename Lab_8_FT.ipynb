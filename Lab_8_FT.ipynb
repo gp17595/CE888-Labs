{
  "nbformat": 4,
  "nbformat_minor": 0,
  "metadata": {
    "colab": {
      "name": "Lab_8_FT.ipynb",
      "provenance": []
    },
    "kernelspec": {
      "name": "python3",
      "display_name": "Python 3"
    },
    "accelerator": "GPU"
  },
  "cells": [
    {
      "cell_type": "code",
      "metadata": {
        "colab": {
          "base_uri": "https://localhost:8080/"
        },
        "id": "43WOM285kM14",
        "outputId": "25615d16-8d1b-45ea-8dfc-41cff92c8071"
      },
      "source": [
        "!wget \"https://github.com/sagihaider/CE888_2021/blob/main/Lab_8/data.zip?raw=true\""
      ],
      "execution_count": null,
      "outputs": [
        {
          "output_type": "stream",
          "text": [
            "--2021-05-05 05:40:28--  https://github.com/sagihaider/CE888_2021/blob/main/Lab_8/data.zip?raw=true\n",
            "Resolving github.com (github.com)... 192.30.255.113\n",
            "Connecting to github.com (github.com)|192.30.255.113|:443... connected.\n",
            "HTTP request sent, awaiting response... 302 Found\n",
            "Location: https://github.com/sagihaider/CE888_2021/raw/main/Lab_8/data.zip [following]\n",
            "--2021-05-05 05:40:28--  https://github.com/sagihaider/CE888_2021/raw/main/Lab_8/data.zip\n",
            "Reusing existing connection to github.com:443.\n",
            "HTTP request sent, awaiting response... 302 Found\n",
            "Location: https://raw.githubusercontent.com/sagihaider/CE888_2021/main/Lab_8/data.zip [following]\n",
            "--2021-05-05 05:40:28--  https://raw.githubusercontent.com/sagihaider/CE888_2021/main/Lab_8/data.zip\n",
            "Resolving raw.githubusercontent.com (raw.githubusercontent.com)... 185.199.110.133, 185.199.108.133, 185.199.109.133, ...\n",
            "Connecting to raw.githubusercontent.com (raw.githubusercontent.com)|185.199.110.133|:443... connected.\n",
            "HTTP request sent, awaiting response... 200 OK\n",
            "Length: 20194537 (19M) [application/zip]\n",
            "Saving to: ‘data.zip?raw=true’\n",
            "\n",
            "data.zip?raw=true   100%[===================>]  19.26M  41.1MB/s    in 0.5s    \n",
            "\n",
            "2021-05-05 05:40:29 (41.1 MB/s) - ‘data.zip?raw=true’ saved [20194537/20194537]\n",
            "\n"
          ],
          "name": "stdout"
        }
      ]
    },
    {
      "cell_type": "code",
      "metadata": {
        "colab": {
          "base_uri": "https://localhost:8080/"
        },
        "id": "0qLRBpNzLoTy",
        "outputId": "76cc008c-a703-48d1-fc16-d3a5b7d8e5c2"
      },
      "source": [
        "from zipfile import ZipFile\n",
        "file_name = \"data.zip?raw=true\"\n",
        "with ZipFile(file_name, 'r') as zip:\n",
        "  zip.extractall()\n",
        "  print('done')"
      ],
      "execution_count": null,
      "outputs": [
        {
          "output_type": "stream",
          "text": [
            "done\n"
          ],
          "name": "stdout"
        }
      ]
    },
    {
      "cell_type": "code",
      "metadata": {
        "id": "0rZ1q8DZkd9c"
      },
      "source": [
        "import os\n",
        "base_dir = '/content/labels'\n",
        "os.mkdir(base_dir)\n",
        "\n",
        "train_dir = os.path.join(base_dir, 'train')\n",
        "os.mkdir(train_dir)\n",
        "\n",
        "validation_dir = os.path.join(base_dir, 'validation')\n",
        "os.mkdir(validation_dir)\n",
        "\n",
        "test_dir = os.path.join(base_dir, 'test')\n",
        "os.mkdir(test_dir)\n",
        "\n",
        "human = '/content/data/Humans'\n",
        "cats = '/content/data/cats'\n",
        "dogs = '/content/data/dogs'\n",
        "horses = '/content/data/horses'"
      ],
      "execution_count": null,
      "outputs": []
    },
    {
      "cell_type": "code",
      "metadata": {
        "id": "_hJVPerSk1HE"
      },
      "source": [
        "import shutil\n",
        "fnames = ['cat.{}.jpg'.format(i) for i in range(1,160)]\n",
        "for fname in fnames:\n",
        "  src = os.path.join(cats, fname)\n",
        "  dst = os.path.join(train_dir, fname)\n",
        "  #print(src,dst)\n",
        "  shutil.copyfile(src, dst)\n",
        "    \n",
        "fnames = ['cat.{}.jpg'.format(i) for i in range(160, 181)]\n",
        "for fname in fnames:\n",
        "  src = os.path.join(cats, fname)\n",
        "  dst = os.path.join(validation_dir, fname)\n",
        "  shutil.copyfile(src, dst)\n",
        "    \n",
        "fnames = ['cat.{}.jpg'.format(i) for i in range(181, 202)]\n",
        "for fname in fnames:\n",
        "  src = os.path.join(cats, fname)\n",
        "  dst = os.path.join(test_dir, fname)\n",
        "  shutil.copyfile(src, dst)\n",
        "\n",
        "fnames = ['dog.{}.jpg'.format(i) for i in range(1,160)]\n",
        "for fname in fnames:\n",
        "  src = os.path.join(dogs, fname)\n",
        "  dst = os.path.join(train_dir, fname)\n",
        "  #print(src,dst)\n",
        "  shutil.copyfile(src, dst)\n",
        "    \n",
        "fnames = ['dog.{}.jpg'.format(i) for i in range(160, 181)]\n",
        "for fname in fnames:\n",
        "  src = os.path.join(dogs, fname)\n",
        "  dst = os.path.join(validation_dir, fname)\n",
        "  shutil.copyfile(src, dst)\n",
        "    \n",
        "fnames = ['dog.{}.jpg'.format(i) for i in range(181, 202)]\n",
        "for fname in fnames:\n",
        "  src = os.path.join(dogs, fname)\n",
        "  dst = os.path.join(test_dir, fname)\n",
        "  shutil.copyfile(src, dst)\n",
        "\n",
        "fnames = ['rider-{}.jpg'.format(i) for i in range(1,160)]\n",
        "for fname in fnames:\n",
        "  src = os.path.join(human, fname)\n",
        "  dst = os.path.join(train_dir, fname)\n",
        "  #print(src,dst)\n",
        "  shutil.copyfile(src, dst)\n",
        "    \n",
        "fnames = ['rider-{}.jpg'.format(i) for i in range(160, 181)]\n",
        "for fname in fnames:\n",
        "  src = os.path.join(human, fname)\n",
        "  dst = os.path.join(validation_dir, fname)\n",
        "  shutil.copyfile(src, dst)\n",
        "    \n",
        "fnames = ['rider-{}.jpg'.format(i) for i in range(181, 202)]\n",
        "for fname in fnames:\n",
        "  src = os.path.join(human, fname)\n",
        "  dst = os.path.join(test_dir, fname)\n",
        "  shutil.copyfile(src, dst)\n",
        "\n",
        "fnames = ['horse-{}.jpg'.format(i) for i in range(1,160)]\n",
        "for fname in fnames:\n",
        "  src = os.path.join(horses, fname)\n",
        "  dst = os.path.join(train_dir, fname)\n",
        "  #print(src,dst)\n",
        "  shutil.copyfile(src, dst)\n",
        "    \n",
        "fnames = ['horse-{}.jpg'.format(i) for i in range(160, 181)]\n",
        "for fname in fnames:\n",
        "  src = os.path.join(horses, fname)\n",
        "  dst = os.path.join(validation_dir, fname)\n",
        "  shutil.copyfile(src, dst)\n",
        "    \n",
        "fnames = ['horse-{}.jpg'.format(i) for i in range(181, 202)]\n",
        "for fname in fnames:\n",
        "  src = os.path.join(horses, fname)\n",
        "  dst = os.path.join(test_dir, fname)\n",
        "  shutil.copyfile(src, dst)"
      ],
      "execution_count": null,
      "outputs": []
    },
    {
      "cell_type": "code",
      "metadata": {
        "id": "ZwF3Yrfrk7Qg"
      },
      "source": [
        "import cv2\n",
        "import numpy as np\n",
        "from random import shuffle\n",
        "\n",
        "IMG_SIZE = 224\n",
        "LR = 1e-4"
      ],
      "execution_count": null,
      "outputs": []
    },
    {
      "cell_type": "code",
      "metadata": {
        "id": "2Oz3Gi7Ak9j6"
      },
      "source": [
        "def label_img(img):\n",
        "    word_label = img.split('.')[0]\n",
        "    word_label = word_label.split('-')[0]\n",
        "    if word_label == 'dog': return 1\n",
        "    elif word_label == 'horse': return 2\n",
        "    elif word_label == 'rider': return 3\n",
        "    elif word_label == 'cat': return 0"
      ],
      "execution_count": null,
      "outputs": []
    },
    {
      "cell_type": "code",
      "metadata": {
        "id": "Ii4NLDPHlAPd"
      },
      "source": [
        "import cv2\n",
        "def createDataSplitSet(datapath):\n",
        "    X=[]\n",
        "    y=[]\n",
        "    for img in os.listdir(datapath):\n",
        "        label = label_img(img)\n",
        "        # print(label)\n",
        "        path = os.path.join(datapath, img)\n",
        "        image = cv2.resize(cv2.imread(path), (IMG_SIZE, IMG_SIZE))\n",
        "        image = cv2.normalize(image, None, alpha=0, beta=1, norm_type=cv2.NORM_MINMAX, dtype=cv2.CV_32F)\n",
        "\n",
        "        X.append(np.array(image))\n",
        "        y.append(label)\n",
        "    return np.array(X), np.array(y)"
      ],
      "execution_count": null,
      "outputs": []
    },
    {
      "cell_type": "code",
      "metadata": {
        "id": "-MJ5OCd1lEr2",
        "colab": {
          "base_uri": "https://localhost:8080/"
        },
        "outputId": "dd1a0e90-af7f-4e7b-87c5-7f0eda84e839"
      },
      "source": [
        "train_X, train_y = createDataSplitSet(train_dir)\n",
        "val_X, val_y = createDataSplitSet(validation_dir)\n",
        "test_X, test_y = createDataSplitSet(test_dir)\n",
        "print(train_X.shape)\n",
        "print(val_X.shape)\n",
        "print(test_X.shape)"
      ],
      "execution_count": null,
      "outputs": [
        {
          "output_type": "stream",
          "text": [
            "(636, 224, 224, 3)\n",
            "(84, 224, 224, 3)\n",
            "(84, 224, 224, 3)\n"
          ],
          "name": "stdout"
        }
      ]
    },
    {
      "cell_type": "code",
      "metadata": {
        "id": "xFvthzVvlV6R"
      },
      "source": [
        "from tensorflow.keras.applications.vgg16 import VGG16\n",
        "from tensorflow.keras.layers import Dense, Input, Flatten\n",
        "from tensorflow.keras import Model\n",
        "\n",
        "img_input = Input(shape=(IMG_SIZE, IMG_SIZE, 3))"
      ],
      "execution_count": null,
      "outputs": []
    },
    {
      "cell_type": "code",
      "metadata": {
        "id": "JEbja_bDlZV_",
        "colab": {
          "base_uri": "https://localhost:8080/"
        },
        "outputId": "ed65f81f-a2ca-45cf-ec7a-9b7233759289"
      },
      "source": [
        "model = VGG16(\n",
        "    include_top=True,\n",
        "    weights=\"imagenet\",\n",
        "    input_tensor=img_input,\n",
        "    input_shape=None,\n",
        "    pooling=None,\n",
        "    classes=1000,\n",
        "    classifier_activation=\"softmax\",\n",
        ")\n",
        "model.summary()"
      ],
      "execution_count": null,
      "outputs": [
        {
          "output_type": "stream",
          "text": [
            "Downloading data from https://storage.googleapis.com/tensorflow/keras-applications/vgg16/vgg16_weights_tf_dim_ordering_tf_kernels.h5\n",
            "553467904/553467096 [==============================] - 6s 0us/step\n",
            "Model: \"vgg16\"\n",
            "_________________________________________________________________\n",
            "Layer (type)                 Output Shape              Param #   \n",
            "=================================================================\n",
            "input_1 (InputLayer)         [(None, 224, 224, 3)]     0         \n",
            "_________________________________________________________________\n",
            "block1_conv1 (Conv2D)        (None, 224, 224, 64)      1792      \n",
            "_________________________________________________________________\n",
            "block1_conv2 (Conv2D)        (None, 224, 224, 64)      36928     \n",
            "_________________________________________________________________\n",
            "block1_pool (MaxPooling2D)   (None, 112, 112, 64)      0         \n",
            "_________________________________________________________________\n",
            "block2_conv1 (Conv2D)        (None, 112, 112, 128)     73856     \n",
            "_________________________________________________________________\n",
            "block2_conv2 (Conv2D)        (None, 112, 112, 128)     147584    \n",
            "_________________________________________________________________\n",
            "block2_pool (MaxPooling2D)   (None, 56, 56, 128)       0         \n",
            "_________________________________________________________________\n",
            "block3_conv1 (Conv2D)        (None, 56, 56, 256)       295168    \n",
            "_________________________________________________________________\n",
            "block3_conv2 (Conv2D)        (None, 56, 56, 256)       590080    \n",
            "_________________________________________________________________\n",
            "block3_conv3 (Conv2D)        (None, 56, 56, 256)       590080    \n",
            "_________________________________________________________________\n",
            "block3_pool (MaxPooling2D)   (None, 28, 28, 256)       0         \n",
            "_________________________________________________________________\n",
            "block4_conv1 (Conv2D)        (None, 28, 28, 512)       1180160   \n",
            "_________________________________________________________________\n",
            "block4_conv2 (Conv2D)        (None, 28, 28, 512)       2359808   \n",
            "_________________________________________________________________\n",
            "block4_conv3 (Conv2D)        (None, 28, 28, 512)       2359808   \n",
            "_________________________________________________________________\n",
            "block4_pool (MaxPooling2D)   (None, 14, 14, 512)       0         \n",
            "_________________________________________________________________\n",
            "block5_conv1 (Conv2D)        (None, 14, 14, 512)       2359808   \n",
            "_________________________________________________________________\n",
            "block5_conv2 (Conv2D)        (None, 14, 14, 512)       2359808   \n",
            "_________________________________________________________________\n",
            "block5_conv3 (Conv2D)        (None, 14, 14, 512)       2359808   \n",
            "_________________________________________________________________\n",
            "block5_pool (MaxPooling2D)   (None, 7, 7, 512)         0         \n",
            "_________________________________________________________________\n",
            "flatten (Flatten)            (None, 25088)             0         \n",
            "_________________________________________________________________\n",
            "fc1 (Dense)                  (None, 4096)              102764544 \n",
            "_________________________________________________________________\n",
            "fc2 (Dense)                  (None, 4096)              16781312  \n",
            "_________________________________________________________________\n",
            "predictions (Dense)          (None, 1000)              4097000   \n",
            "=================================================================\n",
            "Total params: 138,357,544\n",
            "Trainable params: 138,357,544\n",
            "Non-trainable params: 0\n",
            "_________________________________________________________________\n"
          ],
          "name": "stdout"
        }
      ]
    },
    {
      "cell_type": "code",
      "metadata": {
        "id": "YMYoaUAblcy8",
        "colab": {
          "base_uri": "https://localhost:8080/"
        },
        "outputId": "a3fb14c4-c77c-42d2-d956-8813f7a26142"
      },
      "source": [
        "last_layer = model.get_layer('block5_conv3').output\n",
        "x= Flatten(name='flatten')(last_layer)\n",
        "x = Dense(128, activation='relu', name='1')(x)\n",
        "x = Dense(64, activation='relu', name='2')(x)\n",
        "out = Dense(4, activation='softmax', name='output')(x)  ## 2 classes\n",
        "model = Model(img_input, out)\n",
        "\n",
        "for layer in model.layers[:-3]:\n",
        "\tlayer.trainable = False\n",
        "\n",
        "model.summary()"
      ],
      "execution_count": null,
      "outputs": [
        {
          "output_type": "stream",
          "text": [
            "Model: \"model\"\n",
            "_________________________________________________________________\n",
            "Layer (type)                 Output Shape              Param #   \n",
            "=================================================================\n",
            "input_1 (InputLayer)         [(None, 224, 224, 3)]     0         \n",
            "_________________________________________________________________\n",
            "block1_conv1 (Conv2D)        (None, 224, 224, 64)      1792      \n",
            "_________________________________________________________________\n",
            "block1_conv2 (Conv2D)        (None, 224, 224, 64)      36928     \n",
            "_________________________________________________________________\n",
            "block1_pool (MaxPooling2D)   (None, 112, 112, 64)      0         \n",
            "_________________________________________________________________\n",
            "block2_conv1 (Conv2D)        (None, 112, 112, 128)     73856     \n",
            "_________________________________________________________________\n",
            "block2_conv2 (Conv2D)        (None, 112, 112, 128)     147584    \n",
            "_________________________________________________________________\n",
            "block2_pool (MaxPooling2D)   (None, 56, 56, 128)       0         \n",
            "_________________________________________________________________\n",
            "block3_conv1 (Conv2D)        (None, 56, 56, 256)       295168    \n",
            "_________________________________________________________________\n",
            "block3_conv2 (Conv2D)        (None, 56, 56, 256)       590080    \n",
            "_________________________________________________________________\n",
            "block3_conv3 (Conv2D)        (None, 56, 56, 256)       590080    \n",
            "_________________________________________________________________\n",
            "block3_pool (MaxPooling2D)   (None, 28, 28, 256)       0         \n",
            "_________________________________________________________________\n",
            "block4_conv1 (Conv2D)        (None, 28, 28, 512)       1180160   \n",
            "_________________________________________________________________\n",
            "block4_conv2 (Conv2D)        (None, 28, 28, 512)       2359808   \n",
            "_________________________________________________________________\n",
            "block4_conv3 (Conv2D)        (None, 28, 28, 512)       2359808   \n",
            "_________________________________________________________________\n",
            "block4_pool (MaxPooling2D)   (None, 14, 14, 512)       0         \n",
            "_________________________________________________________________\n",
            "block5_conv1 (Conv2D)        (None, 14, 14, 512)       2359808   \n",
            "_________________________________________________________________\n",
            "block5_conv2 (Conv2D)        (None, 14, 14, 512)       2359808   \n",
            "_________________________________________________________________\n",
            "block5_conv3 (Conv2D)        (None, 14, 14, 512)       2359808   \n",
            "_________________________________________________________________\n",
            "flatten (Flatten)            (None, 100352)            0         \n",
            "_________________________________________________________________\n",
            "1 (Dense)                    (None, 128)               12845184  \n",
            "_________________________________________________________________\n",
            "2 (Dense)                    (None, 64)                8256      \n",
            "_________________________________________________________________\n",
            "output (Dense)               (None, 4)                 260       \n",
            "=================================================================\n",
            "Total params: 27,568,388\n",
            "Trainable params: 12,853,700\n",
            "Non-trainable params: 14,714,688\n",
            "_________________________________________________________________\n"
          ],
          "name": "stdout"
        }
      ]
    },
    {
      "cell_type": "code",
      "metadata": {
        "id": "1Do4O0URlfnu"
      },
      "source": [
        "model.compile(loss='sparse_categorical_crossentropy',\n",
        "              optimizer='adam',\n",
        "              metrics=['acc'])"
      ],
      "execution_count": null,
      "outputs": []
    },
    {
      "cell_type": "code",
      "metadata": {
        "id": "ilCwNb0zlh8d"
      },
      "source": [
        "from tensorflow.keras.callbacks import EarlyStopping, ModelCheckpoint\n",
        "my_callbacks = [\n",
        "    EarlyStopping(monitor=\"val_loss\", patience=5, restore_best_weights=True),\n",
        "    ModelCheckpoint(filepath='vgg16_model.h5', save_best_only=True),\n",
        "]"
      ],
      "execution_count": null,
      "outputs": []
    },
    {
      "cell_type": "code",
      "metadata": {
        "id": "Cxewx5Ellkmf",
        "colab": {
          "base_uri": "https://localhost:8080/"
        },
        "outputId": "e63f0ef2-05d1-49c3-8a3e-3b62620316cd"
      },
      "source": [
        "history = model.fit(train_X, train_y,\n",
        "                              batch_size=20,\n",
        "                              epochs=20, \n",
        "                              validation_data=(val_X, val_y),\n",
        "                              callbacks=my_callbacks)"
      ],
      "execution_count": null,
      "outputs": [
        {
          "output_type": "stream",
          "text": [
            "Epoch 1/20\n",
            "32/32 [==============================] - 45s 266ms/step - loss: 2.4224 - acc: 0.5117 - val_loss: 0.4008 - val_acc: 0.8333\n",
            "Epoch 2/20\n",
            "32/32 [==============================] - 4s 115ms/step - loss: 0.1058 - acc: 0.9585 - val_loss: 0.3252 - val_acc: 0.8214\n",
            "Epoch 3/20\n",
            "32/32 [==============================] - 4s 115ms/step - loss: 0.0132 - acc: 0.9974 - val_loss: 0.3512 - val_acc: 0.8452\n",
            "Epoch 4/20\n",
            "32/32 [==============================] - 4s 115ms/step - loss: 0.0047 - acc: 1.0000 - val_loss: 0.3593 - val_acc: 0.8571\n",
            "Epoch 5/20\n",
            "32/32 [==============================] - 4s 115ms/step - loss: 0.0025 - acc: 1.0000 - val_loss: 0.3192 - val_acc: 0.8929\n",
            "Epoch 6/20\n",
            "32/32 [==============================] - 4s 116ms/step - loss: 0.0013 - acc: 1.0000 - val_loss: 0.3445 - val_acc: 0.8452\n",
            "Epoch 7/20\n",
            "32/32 [==============================] - 4s 116ms/step - loss: 0.0011 - acc: 1.0000 - val_loss: 0.3456 - val_acc: 0.8452\n",
            "Epoch 8/20\n",
            "32/32 [==============================] - 4s 116ms/step - loss: 7.5342e-04 - acc: 1.0000 - val_loss: 0.3420 - val_acc: 0.8571\n",
            "Epoch 9/20\n",
            "32/32 [==============================] - 4s 116ms/step - loss: 7.7905e-04 - acc: 1.0000 - val_loss: 0.3501 - val_acc: 0.8571\n",
            "Epoch 10/20\n",
            "32/32 [==============================] - 4s 117ms/step - loss: 6.8995e-04 - acc: 1.0000 - val_loss: 0.3565 - val_acc: 0.8571\n"
          ],
          "name": "stdout"
        }
      ]
    },
    {
      "cell_type": "code",
      "metadata": {
        "id": "4JcXk4UPloXB",
        "colab": {
          "base_uri": "https://localhost:8080/",
          "height": 545
        },
        "outputId": "d95fe221-d77e-40e9-a66f-6fcbdc138e05"
      },
      "source": [
        "import matplotlib.pyplot as plt\n",
        "\n",
        "acc = history.history['acc']\n",
        "val_acc = history.history['val_acc']\n",
        "loss = history.history['loss']\n",
        "val_loss = history.history['val_loss']\n",
        "\n",
        "epochs = range(1, len(acc) + 1)\n",
        "\n",
        "plt.plot(epochs, acc, 'bo', label='Training acc')\n",
        "plt.plot(epochs, val_acc, 'b', label='Validation acc')\n",
        "plt.title('Training and validation accuracy')\n",
        "plt.legend()\n",
        "\n",
        "plt.figure()\n",
        "\n",
        "plt.plot(epochs, loss, 'bo', label='Training loss')\n",
        "plt.plot(epochs, val_loss, 'b', label='Validation loss')\n",
        "plt.title('Training and validation loss')\n",
        "plt.legend()\n",
        "\n",
        "plt.show()"
      ],
      "execution_count": null,
      "outputs": [
        {
          "output_type": "display_data",
          "data": {
            "image/png": "[encoded data removed]",
            "text/plain": [
              "<Figure size 432x288 with 1 Axes>"
            ]
          },
          "metadata": {
            "tags": [],
            "needs_background": "light"
          }
        },
        {
          "output_type": "display_data",
          "data": {
            "image/png": "[encoded data removed]",
            "text/plain": [
              "<Figure size 432x288 with 1 Axes>"
            ]
          },
          "metadata": {
            "tags": [],
            "needs_background": "light"
          }
        }
      ]
    },
    {
      "cell_type": "code",
      "metadata": {
        "id": "CRp8QkWslqoM",
        "colab": {
          "base_uri": "https://localhost:8080/"
        },
        "outputId": "1bfc11e4-6e14-4145-ed21-244862926be1"
      },
      "source": [
        "\n",
        "## Test Accuracy\n",
        "evaluate = model.evaluate(test_X, test_y)\n",
        "predictions = model.predict(test_X)\n",
        "print(predictions)\n",
        "print(test_y)\n",
        "evaluate\n"
      ],
      "execution_count": null,
      "outputs": [
        {
          "output_type": "stream",
          "text": [
            "3/3 [==============================] - 7s 116ms/step - loss: 0.2680 - acc: 0.9048\n",
            "[[2.98958242e-01 6.94124997e-01 7.13049158e-05 6.84546120e-03]\n",
            " [5.08593359e-07 4.43318140e-06 9.99994397e-01 7.44624515e-07]\n",
            " [5.50072327e-05 3.54745355e-03 3.48814268e-04 9.96048629e-01]\n",
            " [1.37766385e-02 3.70374182e-04 9.80082810e-01 5.77026978e-03]\n",
            " [7.26611859e-07 8.54634152e-07 2.29543821e-06 9.99996185e-01]\n",
            " [7.22117070e-03 7.36685877e-04 9.91299331e-01 7.42810778e-04]\n",
            " [9.91248250e-01 1.22587138e-04 2.48300075e-05 8.60439707e-03]\n",
            " [1.68842661e-07 5.29091922e-05 1.95643461e-05 9.99927402e-01]\n",
            " [1.43231773e-07 6.59031775e-06 9.99966383e-01 2.69639786e-05]\n",
            " [2.58070145e-06 7.29833264e-03 9.92692471e-01 6.64989511e-06]\n",
            " [9.97624695e-01 1.51673343e-03 3.35365476e-04 5.23111376e-04]\n",
            " [1.87134731e-06 1.78131508e-04 9.99589503e-01 2.30417310e-04]\n",
            " [2.46784639e-05 1.02262408e-03 6.75225529e-05 9.98885214e-01]\n",
            " [1.07656933e-01 4.03985046e-02 1.71768144e-02 8.34767759e-01]\n",
            " [9.99961734e-01 3.06231850e-05 3.73933381e-06 3.89385059e-06]\n",
            " [8.54961169e-09 1.14215890e-08 6.61233287e-07 9.99999285e-01]\n",
            " [3.00143142e-06 1.57209870e-04 9.99821603e-01 1.82901786e-05]\n",
            " [9.99999642e-01 2.20413384e-07 3.78788911e-09 1.70103121e-07]\n",
            " [3.02786702e-06 9.99993205e-01 3.68396309e-06 8.24463342e-08]\n",
            " [9.98722255e-01 9.90174012e-04 6.08693881e-07 2.86960043e-04]\n",
            " [9.99892473e-01 8.59369029e-05 1.96333872e-06 1.96321216e-05]\n",
            " [1.50682215e-04 1.13875661e-02 2.28336230e-01 7.60125577e-01]\n",
            " [9.99988914e-01 7.87536828e-06 3.07571298e-07 2.93619996e-06]\n",
            " [1.27262552e-03 9.98254836e-01 4.15889081e-04 5.66809213e-05]\n",
            " [5.19285910e-04 5.37998835e-03 9.89634693e-01 4.46606055e-03]\n",
            " [1.48219662e-03 9.98410225e-01 1.01607089e-04 6.01457168e-06]\n",
            " [2.17497727e-05 6.23653047e-02 9.35932040e-01 1.68093818e-03]\n",
            " [9.99612033e-01 3.40380822e-04 2.90385324e-05 1.86821817e-05]\n",
            " [8.63772402e-06 6.05164445e-04 9.99102950e-01 2.83223984e-04]\n",
            " [6.70247059e-03 9.35873296e-03 9.83861983e-01 7.68564059e-05]\n",
            " [3.71322614e-07 1.39835635e-07 5.47673244e-06 9.99994040e-01]\n",
            " [8.89011621e-01 7.15443641e-02 7.18795089e-03 3.22560929e-02]\n",
            " [5.25402762e-02 5.97966850e-01 2.33726320e-03 3.47155631e-01]\n",
            " [5.89677960e-08 1.08933193e-06 3.83768987e-04 9.99614954e-01]\n",
            " [9.99127209e-01 6.37062301e-04 2.28565084e-04 7.16722752e-06]\n",
            " [4.70655038e-07 9.99979019e-01 2.04449570e-05 2.61169859e-08]\n",
            " [2.41244659e-01 7.57847428e-01 8.35711660e-04 7.21807737e-05]\n",
            " [7.27273047e-01 2.72715420e-01 7.76610432e-06 3.72948875e-06]\n",
            " [7.18988105e-08 1.32255266e-07 5.82904977e-06 9.99993920e-01]\n",
            " [1.88712352e-06 8.84199544e-05 9.99902010e-01 7.67046004e-06]\n",
            " [6.31016484e-09 3.82300072e-07 5.87120485e-06 9.99993801e-01]\n",
            " [2.55256193e-04 9.78573263e-01 2.11653300e-02 6.15831686e-06]\n",
            " [9.86542583e-01 3.62926803e-04 3.60342092e-05 1.30584389e-02]\n",
            " [1.06798757e-08 3.92490335e-07 9.99999523e-01 8.62744542e-08]\n",
            " [7.08875537e-01 2.35255182e-01 5.15984856e-02 4.27077711e-03]\n",
            " [7.88713574e-01 2.11088508e-01 1.11238522e-04 8.66919945e-05]\n",
            " [3.12348202e-05 1.39737540e-05 8.46616422e-06 9.99946356e-01]\n",
            " [8.30605451e-04 5.76812681e-06 6.87539286e-05 9.99094963e-01]\n",
            " [1.78437489e-07 2.58297473e-06 9.99604046e-01 3.93286842e-04]\n",
            " [1.10487290e-01 5.29762506e-01 3.53113532e-01 6.63672714e-03]\n",
            " [2.37828499e-04 5.40828150e-05 9.98790562e-01 9.17566649e-04]\n",
            " [1.92052256e-02 9.79850531e-01 8.40157969e-04 1.04093568e-04]\n",
            " [7.22117070e-03 7.36685877e-04 9.91299331e-01 7.42810778e-04]\n",
            " [8.08559418e-01 1.91388726e-01 2.13348221e-06 4.97590554e-05]\n",
            " [4.12917614e-01 5.12667894e-01 6.39800057e-02 1.04344925e-02]\n",
            " [4.99541420e-05 9.99166369e-01 7.78479909e-04 5.20974072e-06]\n",
            " [4.59469557e-01 5.40319204e-01 2.04913013e-04 6.34566049e-06]\n",
            " [9.97491121e-01 2.47397437e-03 7.09026563e-06 2.78734497e-05]\n",
            " [1.50025187e-06 1.89300147e-06 9.99984980e-01 1.16658421e-05]\n",
            " [2.78902412e-08 2.97357510e-05 9.99969482e-01 7.10997313e-07]\n",
            " [2.84187365e-07 2.18191519e-04 6.28697872e-03 9.93494570e-01]\n",
            " [1.65996428e-09 3.54486718e-10 2.88441538e-06 9.99997139e-01]\n",
            " [2.10031139e-05 9.99978900e-01 5.57878437e-08 1.48195145e-08]\n",
            " [7.13408372e-06 7.16040449e-05 9.99920130e-01 1.04187643e-06]\n",
            " [4.02661244e-04 9.99597013e-01 3.45915907e-07 1.86876843e-08]\n",
            " [9.91973758e-01 7.55878957e-03 6.50073416e-05 4.02415404e-04]\n",
            " [9.88331616e-01 1.12044448e-02 8.11123828e-05 3.82799888e-04]\n",
            " [9.99870300e-01 1.24952367e-05 1.39318544e-07 1.17024501e-04]\n",
            " [9.99264061e-01 6.35255303e-04 4.46019430e-06 9.61552942e-05]\n",
            " [2.94450492e-01 7.04872906e-01 6.42609491e-04 3.40000079e-05]\n",
            " [2.31042923e-05 2.17160588e-04 9.99701679e-01 5.80881206e-05]\n",
            " [1.83990693e-07 6.05106879e-06 1.25140403e-04 9.99868631e-01]\n",
            " [9.99993563e-01 6.05801415e-06 4.05697378e-08 3.36193381e-07]\n",
            " [2.05695117e-03 6.12268850e-05 3.07208335e-04 9.97574627e-01]\n",
            " [2.37826665e-04 5.40827095e-05 9.98790562e-01 9.17566183e-04]\n",
            " [6.90031350e-01 2.04706937e-03 3.22997980e-02 2.75621802e-01]\n",
            " [1.32750301e-05 5.79570187e-05 6.06571091e-04 9.99322176e-01]\n",
            " [3.29897797e-04 5.75845456e-03 1.93975007e-04 9.93717670e-01]\n",
            " [1.20742243e-07 1.55385078e-06 4.43602994e-06 9.99993920e-01]\n",
            " [4.52148080e-01 5.47429085e-01 2.39884190e-04 1.82993739e-04]\n",
            " [8.85699774e-05 9.99911189e-01 2.62008911e-07 3.68109682e-10]\n",
            " [4.42126662e-01 5.57382882e-01 2.90775992e-04 1.99755377e-04]\n",
            " [3.59676294e-02 9.51862514e-01 9.14991251e-04 1.12549122e-02]\n",
            " [9.99432027e-01 2.01368639e-05 1.49363013e-05 5.32860402e-04]]\n",
            "[1 2 3 2 3 2 0 3 2 2 0 2 3 1 0 3 2 0 1 0 0 3 0 1 2 1 2 0 2 2 3 0 3 3 0 1 1\n",
            " 1 3 2 3 1 0 2 1 0 3 3 3 2 2 1 2 1 1 1 1 0 2 2 3 3 1 2 1 0 0 0 0 1 2 3 0 3\n",
            " 2 0 3 3 3 0 1 1 1 0]\n"
          ],
          "name": "stdout"
        },
        {
          "output_type": "execute_result",
          "data": {
            "text/plain": [
              "[0.26803842186927795, 0.9047619104385376]"
            ]
          },
          "metadata": {
            "tags": []
          },
          "execution_count": 19
        }
      ]
    }
  ]
}