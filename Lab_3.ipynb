{
  "nbformat": 4,
  "nbformat_minor": 0,
  "metadata": {
    "colab": {
      "name": "Lab 3.ipynb",
      "provenance": [],
      "collapsed_sections": []
    },
    "kernelspec": {
      "name": "python3",
      "display_name": "Python 3"
    },
    "language_info": {
      "name": "python"
    }
  },
  "cells": [
    {
      "cell_type": "code",
      "metadata": {
        "id": "zP7yRxrEv0sd"
      },
      "source": [
        "import pandas as pd\n",
        "import numpy as np\n",
        "from sklearn. preprocessing import LabelEncoder\n",
        "import matplotlib.pyplot as plt\n",
        "import seaborn as sns\n",
        "from sklearn.model_selection import train_test_split, StratifiedKFold, cross_val_score, GridSearchCV\n",
        "from sklearn.ensemble import RandomForestClassifier\n",
        "from sklearn.datasets import make_classification\n",
        "from sklearn import metrics\n",
        "from sklearn.dummy import DummyClassifier\n",
        "from sklearn.metrics import classification_report\n",
        "from sklearn.metrics import SCORERS, accuracy_score as acc, f1_score as f1\n",
        "from sklearn.ensemble import RandomForestRegressor\n",
        "from sklearn.dummy import DummyRegressor\n",
        "from sklearn.metrics import mean_squared_error\n",
        "from sklearn.tree import DecisionTreeRegressor"
      ],
      "execution_count": 1,
      "outputs": []
    },
    {
      "cell_type": "code",
      "metadata": {
        "id": "4c5IJDkZwh7c"
      },
      "source": [
        "df_bank = pd.read_csv('https://raw.githubusercontent.com/albanda/CE888/master/lab3/bank-additional-full.csv', sep=';')"
      ],
      "execution_count": 2,
      "outputs": []
    },
    {
      "cell_type": "code",
      "metadata": {
        "id": "pA_wlaCOKYwN"
      },
      "source": [
        "#df_bank"
      ],
      "execution_count": 3,
      "outputs": []
    },
    {
      "cell_type": "code",
      "metadata": {
        "id": "xW6yZDInGV4D"
      },
      "source": [
        "df_bank.drop('duration', axis = 1, inplace = True )"
      ],
      "execution_count": 4,
      "outputs": []
    },
    {
      "cell_type": "code",
      "metadata": {
        "id": "N91mGWNFHUDD"
      },
      "source": [
        "df_bank = df_bank.dropna(how='all')"
      ],
      "execution_count": 5,
      "outputs": []
    },
    {
      "cell_type": "code",
      "metadata": {
        "id": "XfwUp0EDGRXl"
      },
      "source": [
        "df_bank[[\"y\"]] = df_bank[[\"y\"]].apply(LabelEncoder().fit_transform)"
      ],
      "execution_count": 6,
      "outputs": []
    },
    {
      "cell_type": "code",
      "metadata": {
        "id": "5YdVJXhQtYHw"
      },
      "source": [
        "dummy = pd.get_dummies(df_bank)"
      ],
      "execution_count": 7,
      "outputs": []
    },
    {
      "cell_type": "code",
      "metadata": {
        "colab": {
          "base_uri": "https://localhost:8080/"
        },
        "id": "bi3HhEqSohqO",
        "outputId": "c72dac0a-67b6-4503-e5fa-2a899732c12a"
      },
      "source": [
        "dummy.isna().sum()"
      ],
      "execution_count": 8,
      "outputs": [
        {
          "output_type": "execute_result",
          "data": {
            "text/plain": [
              "age                     0\n",
              "campaign                0\n",
              "pdays                   0\n",
              "previous                0\n",
              "emp.var.rate            0\n",
              "                       ..\n",
              "day_of_week_tue         0\n",
              "day_of_week_wed         0\n",
              "poutcome_failure        0\n",
              "poutcome_nonexistent    0\n",
              "poutcome_success        0\n",
              "Length: 63, dtype: int64"
            ]
          },
          "metadata": {
            "tags": []
          },
          "execution_count": 8
        }
      ]
    },
    {
      "cell_type": "code",
      "metadata": {
        "colab": {
          "base_uri": "https://localhost:8080/",
          "height": 282
        },
        "id": "S9iUNGX-YhO6",
        "outputId": "434baf12-9fa8-4b53-a563-654dbbf0df38"
      },
      "source": [
        "dummy['y'].hist(bins=100)"
      ],
      "execution_count": 9,
      "outputs": [
        {
          "output_type": "execute_result",
          "data": {
            "text/plain": [
              "<matplotlib.axes._subplots.AxesSubplot at 0x7f300299e150>"
            ]
          },
          "metadata": {
            "tags": []
          },
          "execution_count": 9
        },
        {
          "output_type": "display_data",
          "data": {
            "image/png": "[encoded data removed]",
            "text/plain": [
              "<Figure size 432x288 with 1 Axes>"
            ]
          },
          "metadata": {
            "tags": [],
            "needs_background": "light"
          }
        }
      ]
    },
    {
      "cell_type": "code",
      "metadata": {
        "colab": {
          "base_uri": "https://localhost:8080/"
        },
        "id": "AdSgSKrshrjo",
        "outputId": "144812d5-b2dd-4740-f09e-151f05f06f43"
      },
      "source": [
        "#X = df_bank['Type']\n",
        "X = dummy.drop('y', axis=1)\n",
        "print(X)\n",
        "y = dummy['y']\n",
        "print(y)"
      ],
      "execution_count": 10,
      "outputs": [
        {
          "output_type": "stream",
          "text": [
            "       age  campaign  ...  poutcome_nonexistent  poutcome_success\n",
            "0       56         1  ...                     1                 0\n",
            "1       57         1  ...                     1                 0\n",
            "2       37         1  ...                     1                 0\n",
            "3       40         1  ...                     1                 0\n",
            "4       56         1  ...                     1                 0\n",
            "...    ...       ...  ...                   ...               ...\n",
            "41183   73         1  ...                     1                 0\n",
            "41184   46         1  ...                     1                 0\n",
            "41185   56         2  ...                     1                 0\n",
            "41186   44         1  ...                     1                 0\n",
            "41187   74         3  ...                     0                 0\n",
            "\n",
            "[41188 rows x 62 columns]\n",
            "0        0\n",
            "1        0\n",
            "2        0\n",
            "3        0\n",
            "4        0\n",
            "        ..\n",
            "41183    1\n",
            "41184    0\n",
            "41185    0\n",
            "41186    1\n",
            "41187    0\n",
            "Name: y, Length: 41188, dtype: int64\n"
          ],
          "name": "stdout"
        }
      ]
    },
    {
      "cell_type": "code",
      "metadata": {
        "id": "5AGsuEOKlhUu"
      },
      "source": [
        "x_train, x_test, y_train, y_test = train_test_split(X, y, stratify=y, test_size = .2, random_state = 50)"
      ],
      "execution_count": 11,
      "outputs": []
    },
    {
      "cell_type": "code",
      "metadata": {
        "colab": {
          "base_uri": "https://localhost:8080/"
        },
        "id": "DaLQLB6J4IfX",
        "outputId": "682c75c5-8948-4b56-fc68-72b67b307a90"
      },
      "source": [
        "cv = StratifiedKFold(n_splits=10, random_state=50, shuffle=True)\n",
        "clf = RandomForestClassifier(n_estimators=100, max_depth=3)\n",
        "clf.fit(x_train, y_train)"
      ],
      "execution_count": 12,
      "outputs": [
        {
          "output_type": "execute_result",
          "data": {
            "text/plain": [
              "RandomForestClassifier(bootstrap=True, ccp_alpha=0.0, class_weight=None,\n",
              "                       criterion='gini', max_depth=3, max_features='auto',\n",
              "                       max_leaf_nodes=None, max_samples=None,\n",
              "                       min_impurity_decrease=0.0, min_impurity_split=None,\n",
              "                       min_samples_leaf=1, min_samples_split=2,\n",
              "                       min_weight_fraction_leaf=0.0, n_estimators=100,\n",
              "                       n_jobs=None, oob_score=False, random_state=None,\n",
              "                       verbose=0, warm_start=False)"
            ]
          },
          "metadata": {
            "tags": []
          },
          "execution_count": 12
        }
      ]
    },
    {
      "cell_type": "code",
      "metadata": {
        "id": "yOQjmQXm6SBz",
        "colab": {
          "base_uri": "https://localhost:8080/"
        },
        "outputId": "775cb8ed-6826-4439-f519-a2737a0ddc96"
      },
      "source": [
        "scores = cross_val_score(clf, x_train, y_train, cv=cv, n_jobs=-1, scoring='accuracy', verbose=10)"
      ],
      "execution_count": 13,
      "outputs": [
        {
          "output_type": "stream",
          "text": [
            "[Parallel(n_jobs=-1)]: Using backend LokyBackend with 2 concurrent workers.\n",
            "[Parallel(n_jobs=-1)]: Done   1 tasks      | elapsed:    2.8s\n",
            "[Parallel(n_jobs=-1)]: Done   4 tasks      | elapsed:    4.4s\n",
            "[Parallel(n_jobs=-1)]: Done  10 out of  10 | elapsed:    8.9s finished\n"
          ],
          "name": "stderr"
        }
      ]
    },
    {
      "cell_type": "code",
      "metadata": {
        "colab": {
          "base_uri": "https://localhost:8080/"
        },
        "id": "Wm8Px7dp_PYh",
        "outputId": "ef0221c2-8d3e-4701-be1a-32d075c32ab7"
      },
      "source": [
        "scores"
      ],
      "execution_count": 14,
      "outputs": [
        {
          "output_type": "execute_result",
          "data": {
            "text/plain": [
              "array([0.89559939, 0.90288316, 0.89984825, 0.89256449, 0.89924127,\n",
              "       0.90197269, 0.89590288, 0.89984825, 0.89742033, 0.89742033])"
            ]
          },
          "metadata": {
            "tags": []
          },
          "execution_count": 14
        }
      ]
    },
    {
      "cell_type": "code",
      "metadata": {
        "id": "BQWRN9oOBAki",
        "colab": {
          "base_uri": "https://localhost:8080/"
        },
        "outputId": "c0450a1a-1ef1-4000-a03b-99ee546fa868"
      },
      "source": [
        "sorted(SCORERS.keys())"
      ],
      "execution_count": 15,
      "outputs": [
        {
          "output_type": "execute_result",
          "data": {
            "text/plain": [
              "['accuracy',\n",
              " 'adjusted_mutual_info_score',\n",
              " 'adjusted_rand_score',\n",
              " 'average_precision',\n",
              " 'balanced_accuracy',\n",
              " 'completeness_score',\n",
              " 'explained_variance',\n",
              " 'f1',\n",
              " 'f1_macro',\n",
              " 'f1_micro',\n",
              " 'f1_samples',\n",
              " 'f1_weighted',\n",
              " 'fowlkes_mallows_score',\n",
              " 'homogeneity_score',\n",
              " 'jaccard',\n",
              " 'jaccard_macro',\n",
              " 'jaccard_micro',\n",
              " 'jaccard_samples',\n",
              " 'jaccard_weighted',\n",
              " 'max_error',\n",
              " 'mutual_info_score',\n",
              " 'neg_brier_score',\n",
              " 'neg_log_loss',\n",
              " 'neg_mean_absolute_error',\n",
              " 'neg_mean_gamma_deviance',\n",
              " 'neg_mean_poisson_deviance',\n",
              " 'neg_mean_squared_error',\n",
              " 'neg_mean_squared_log_error',\n",
              " 'neg_median_absolute_error',\n",
              " 'neg_root_mean_squared_error',\n",
              " 'normalized_mutual_info_score',\n",
              " 'precision',\n",
              " 'precision_macro',\n",
              " 'precision_micro',\n",
              " 'precision_samples',\n",
              " 'precision_weighted',\n",
              " 'r2',\n",
              " 'recall',\n",
              " 'recall_macro',\n",
              " 'recall_micro',\n",
              " 'recall_samples',\n",
              " 'recall_weighted',\n",
              " 'roc_auc',\n",
              " 'roc_auc_ovo',\n",
              " 'roc_auc_ovo_weighted',\n",
              " 'roc_auc_ovr',\n",
              " 'roc_auc_ovr_weighted',\n",
              " 'v_measure_score']"
            ]
          },
          "metadata": {
            "tags": []
          },
          "execution_count": 15
        }
      ]
    },
    {
      "cell_type": "code",
      "metadata": {
        "colab": {
          "base_uri": "https://localhost:8080/"
        },
        "id": "sR_z_h7_B9n8",
        "outputId": "3213b868-93b0-4979-9ae3-0cf9f71580f2"
      },
      "source": [
        "dummyClf = DummyClassifier(strategy='stratified')\n",
        "dummyClf.fit(x_train, y_train)"
      ],
      "execution_count": 16,
      "outputs": [
        {
          "output_type": "execute_result",
          "data": {
            "text/plain": [
              "DummyClassifier(constant=None, random_state=None, strategy='stratified')"
            ]
          },
          "metadata": {
            "tags": []
          },
          "execution_count": 16
        }
      ]
    },
    {
      "cell_type": "code",
      "metadata": {
        "colab": {
          "base_uri": "https://localhost:8080/"
        },
        "id": "ElPLV5KIB_2T",
        "outputId": "5b938af5-0beb-46a6-e665-0a7d29bff561"
      },
      "source": [
        "dummy_score = cross_val_score(dummyClf, x_train, y=y_train, scoring='f1', cv=10)\n",
        "dummy_score.mean()"
      ],
      "execution_count": 17,
      "outputs": [
        {
          "output_type": "execute_result",
          "data": {
            "text/plain": [
              "0.11914448764843755"
            ]
          },
          "metadata": {
            "tags": []
          },
          "execution_count": 17
        }
      ]
    },
    {
      "cell_type": "code",
      "metadata": {
        "colab": {
          "base_uri": "https://localhost:8080/"
        },
        "id": "lxmC1oAdCEf3",
        "outputId": "3165b969-6cda-4e1d-e646-4652934382bb"
      },
      "source": [
        "acc(y_test, dummyClf.predict(x_test))"
      ],
      "execution_count": 18,
      "outputs": [
        {
          "output_type": "execute_result",
          "data": {
            "text/plain": [
              "0.7974022821073076"
            ]
          },
          "metadata": {
            "tags": []
          },
          "execution_count": 18
        }
      ]
    },
    {
      "cell_type": "code",
      "metadata": {
        "colab": {
          "base_uri": "https://localhost:8080/"
        },
        "id": "egTirNdECQQ_",
        "outputId": "6293445a-a916-440b-d779-8f00fdac31db"
      },
      "source": [
        "acc(y_test, clf.predict(x_test))"
      ],
      "execution_count": 19,
      "outputs": [
        {
          "output_type": "execute_result",
          "data": {
            "text/plain": [
              "0.8991260014566642"
            ]
          },
          "metadata": {
            "tags": []
          },
          "execution_count": 19
        }
      ]
    },
    {
      "cell_type": "code",
      "metadata": {
        "colab": {
          "base_uri": "https://localhost:8080/"
        },
        "id": "byKI1CLDCSh4",
        "outputId": "8f6a2733-9dd4-482f-e730-4617570e4586"
      },
      "source": [
        "params = { \n",
        "    'n_estimators': [50, 100, 200, 500],\n",
        "    'max_features': ['auto', 'sqrt', 'log2'],\n",
        "    'max_depth' : [4,5,6,7,8, 10],\n",
        "    'criterion' :['gini', 'entropy']\n",
        "}\n",
        "\n",
        "grid_search = GridSearchCV(estimator=RandomForestClassifier(), param_grid=params, scoring='accuracy', n_jobs=-1, verbose=10)\n",
        "grid_search.fit(x_train, y_train)"
      ],
      "execution_count": 20,
      "outputs": [
        {
          "output_type": "stream",
          "text": [
            "Fitting 5 folds for each of 144 candidates, totalling 720 fits\n"
          ],
          "name": "stdout"
        },
        {
          "output_type": "stream",
          "text": [
            "[Parallel(n_jobs=-1)]: Using backend LokyBackend with 2 concurrent workers.\n",
            "[Parallel(n_jobs=-1)]: Done   1 tasks      | elapsed:    0.9s\n",
            "[Parallel(n_jobs=-1)]: Done   4 tasks      | elapsed:    1.9s\n",
            "[Parallel(n_jobs=-1)]: Done   9 tasks      | elapsed:    6.0s\n",
            "[Parallel(n_jobs=-1)]: Done  14 tasks      | elapsed:   13.3s\n",
            "[Parallel(n_jobs=-1)]: Done  21 tasks      | elapsed:   33.2s\n",
            "[Parallel(n_jobs=-1)]: Done  28 tasks      | elapsed:   38.9s\n",
            "[Parallel(n_jobs=-1)]: Done  37 tasks      | elapsed:   57.7s\n",
            "[Parallel(n_jobs=-1)]: Done  46 tasks      | elapsed:  1.2min\n",
            "[Parallel(n_jobs=-1)]: Done  57 tasks      | elapsed:  1.5min\n",
            "[Parallel(n_jobs=-1)]: Done  68 tasks      | elapsed:  1.7min\n",
            "[Parallel(n_jobs=-1)]: Done  81 tasks      | elapsed:  2.2min\n",
            "[Parallel(n_jobs=-1)]: Done  94 tasks      | elapsed:  2.5min\n",
            "[Parallel(n_jobs=-1)]: Done 109 tasks      | elapsed:  3.0min\n",
            "[Parallel(n_jobs=-1)]: Done 124 tasks      | elapsed:  3.5min\n",
            "[Parallel(n_jobs=-1)]: Done 141 tasks      | elapsed:  4.2min\n",
            "[Parallel(n_jobs=-1)]: Done 158 tasks      | elapsed:  4.9min\n",
            "[Parallel(n_jobs=-1)]: Done 177 tasks      | elapsed:  5.4min\n",
            "[Parallel(n_jobs=-1)]: Done 196 tasks      | elapsed:  6.1min\n",
            "[Parallel(n_jobs=-1)]: Done 217 tasks      | elapsed:  7.0min\n",
            "[Parallel(n_jobs=-1)]: Done 238 tasks      | elapsed:  7.9min\n",
            "[Parallel(n_jobs=-1)]: Done 261 tasks      | elapsed:  8.9min\n",
            "[Parallel(n_jobs=-1)]: Done 284 tasks      | elapsed:  9.8min\n",
            "[Parallel(n_jobs=-1)]: Done 309 tasks      | elapsed: 10.8min\n",
            "[Parallel(n_jobs=-1)]: Done 334 tasks      | elapsed: 12.1min\n",
            "[Parallel(n_jobs=-1)]: Done 361 tasks      | elapsed: 13.7min\n",
            "[Parallel(n_jobs=-1)]: Done 388 tasks      | elapsed: 14.4min\n",
            "[Parallel(n_jobs=-1)]: Done 417 tasks      | elapsed: 15.2min\n",
            "[Parallel(n_jobs=-1)]: Done 446 tasks      | elapsed: 16.1min\n",
            "[Parallel(n_jobs=-1)]: Done 477 tasks      | elapsed: 17.1min\n",
            "[Parallel(n_jobs=-1)]: Done 508 tasks      | elapsed: 18.2min\n",
            "[Parallel(n_jobs=-1)]: Done 541 tasks      | elapsed: 19.4min\n",
            "[Parallel(n_jobs=-1)]: Done 574 tasks      | elapsed: 20.6min\n",
            "[Parallel(n_jobs=-1)]: Done 609 tasks      | elapsed: 22.0min\n",
            "[Parallel(n_jobs=-1)]: Done 644 tasks      | elapsed: 23.8min\n",
            "[Parallel(n_jobs=-1)]: Done 681 tasks      | elapsed: 25.6min\n",
            "[Parallel(n_jobs=-1)]: Done 720 out of 720 | elapsed: 27.7min finished\n"
          ],
          "name": "stderr"
        },
        {
          "output_type": "execute_result",
          "data": {
            "text/plain": [
              "GridSearchCV(cv=None, error_score=nan,\n",
              "             estimator=RandomForestClassifier(bootstrap=True, ccp_alpha=0.0,\n",
              "                                              class_weight=None,\n",
              "                                              criterion='gini', max_depth=None,\n",
              "                                              max_features='auto',\n",
              "                                              max_leaf_nodes=None,\n",
              "                                              max_samples=None,\n",
              "                                              min_impurity_decrease=0.0,\n",
              "                                              min_impurity_split=None,\n",
              "                                              min_samples_leaf=1,\n",
              "                                              min_samples_split=2,\n",
              "                                              min_weight_fraction_leaf=0.0,\n",
              "                                              n_estimators=100, n_jobs=None,\n",
              "                                              oob_score=False,\n",
              "                                              random_state=None, verbose=0,\n",
              "                                              warm_start=False),\n",
              "             iid='deprecated', n_jobs=-1,\n",
              "             param_grid={'criterion': ['gini', 'entropy'],\n",
              "                         'max_depth': [4, 5, 6, 7, 8, 10],\n",
              "                         'max_features': ['auto', 'sqrt', 'log2'],\n",
              "                         'n_estimators': [50, 100, 200, 500]},\n",
              "             pre_dispatch='2*n_jobs', refit=True, return_train_score=False,\n",
              "             scoring='accuracy', verbose=10)"
            ]
          },
          "metadata": {
            "tags": []
          },
          "execution_count": 20
        }
      ]
    }
  ]
}